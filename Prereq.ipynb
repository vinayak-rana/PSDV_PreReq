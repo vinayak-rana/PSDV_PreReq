{
 "cells": [
  {
   "cell_type": "markdown",
   "metadata": {},
   "source": [
    "### Q1 List Operations and Basic Statistic"
   ]
  },
  {
   "cell_type": "code",
   "execution_count": 1,
   "metadata": {},
   "outputs": [
    {
     "name": "stdout",
     "output_type": "stream",
     "text": [
      "List of first 20 natural numbers: [1, 2, 3, 4, 5, 6, 7, 8, 9, 10, 11, 12, 13, 14, 15, 16, 17, 18, 19, 20]\n",
      "Sum of all even numbers: 110\n",
      "Product of all odd numbers: 654729075\n",
      "Mean: 10.5\n",
      "Median: 10.5\n",
      "Standard Deviation: 5.766281297335398\n"
     ]
    }
   ],
   "source": [
    "import numpy as np\n",
    "\n",
    "# Create a list of the first 20 natural numbers\n",
    "natural_numbers = list(range(1, 21))\n",
    "\n",
    "# Compute the sum of all even numbers in the list\n",
    "even_numbers = [num for num in natural_numbers if num % 2 == 0]\n",
    "sum_even = sum(even_numbers)\n",
    "\n",
    "# Compute the product of all odd numbers in the list\n",
    "odd_numbers = [num for num in natural_numbers if num % 2 != 0]\n",
    "product_odd = np.prod(odd_numbers)\n",
    "\n",
    "# Calculate the mean, median, and standard deviation of the list\n",
    "mean = np.mean(natural_numbers)\n",
    "median = np.median(natural_numbers)\n",
    "std_dev = np.std(natural_numbers)\n",
    "\n",
    "# Output the results\n",
    "print(\"List of first 20 natural numbers:\", natural_numbers)\n",
    "print(\"Sum of all even numbers:\", sum_even)\n",
    "print(\"Product of all odd numbers:\", product_odd)\n",
    "print(\"Mean:\", mean)\n",
    "print(\"Median:\", median)\n",
    "print(\"Standard Deviation:\", std_dev)\n"
   ]
  },
  {
   "cell_type": "markdown",
   "metadata": {},
   "source": [
    "### Q2 Mutable vs. Immutable Data Types:"
   ]
  },
  {
   "cell_type": "markdown",
   "metadata": {},
   "source": [
    "#### Mutable Objects:\n",
    "\n",
    "These objects can have their contents modified without changing their identity (i.e., their memory address remains the same).\n",
    "Examples include lists, dictionaries, and sets."
   ]
  },
  {
   "cell_type": "code",
   "execution_count": 5,
   "metadata": {},
   "outputs": [
    {
     "name": "stdout",
     "output_type": "stream",
     "text": [
      "1356104957568\n",
      "1356104957568\n"
     ]
    }
   ],
   "source": [
    "i = [1, 2, 3]\n",
    "print(id(i))  \n",
    "i[0] = 7\n",
    "print(id(i))  "
   ]
  },
  {
   "cell_type": "markdown",
   "metadata": {},
   "source": [
    "Lists in Python are mutable, meaning you can modify their content (e.g., by changing an element, appending, or removing items) without creating a new object.\n",
    "Instead of creating a new object, Python directly modifies the existing list, so the ID of the list remains the same"
   ]
  },
  {
   "cell_type": "markdown",
   "metadata": {},
   "source": [
    "#### Immutable Objects:\n",
    "\n",
    "These objects cannot be modified after they are created. Any operation that appears to modify them actually creates a new object with a different identity.\n",
    "Examples include integers, floats, strings, and tuples."
   ]
  },
  {
   "cell_type": "code",
   "execution_count": 6,
   "metadata": {},
   "outputs": [
    {
     "name": "stdout",
     "output_type": "stream",
     "text": [
      "1356025534384\n",
      "1356105094832\n"
     ]
    }
   ],
   "source": [
    "s = \"abc\"\n",
    "print(id(s))  \n",
    "s += \"xyz\"    \n",
    "print(id(s))  "
   ]
  },
  {
   "cell_type": "markdown",
   "metadata": {},
   "source": [
    "When you \"modify\" a string (e.g., by concatenating or slicing), Python does not alter the existing object. Instead, it creates a new object in memory with the modified content.\n",
    "This is why the ID of a string changes when you assign a new value or perform operations like concatenation"
   ]
  },
  {
   "cell_type": "markdown",
   "metadata": {},
   "source": [
    "### Q3 Fibonacci Sequence:"
   ]
  },
  {
   "cell_type": "code",
   "execution_count": 2,
   "metadata": {},
   "outputs": [
    {
     "name": "stdout",
     "output_type": "stream",
     "text": [
      "Input by the user:  5\n",
      "Fibonacci sequence: [0, 1, 1, 2, 3]\n"
     ]
    },
    {
     "data": {
      "image/png": "[encoded data removed]",
      "text/plain": [
       "<Figure size 720x360 with 1 Axes>"
      ]
     },
     "metadata": {
      "needs_background": "light"
     },
     "output_type": "display_data"
    }
   ],
   "source": [
    "import matplotlib.pyplot as plt\n",
    "\n",
    "# Function to generate the first n Fibonacci numbers\n",
    "def fibonacci(n):\n",
    "    if n <= 0:\n",
    "        return []\n",
    "    elif n == 1:\n",
    "        return [0]\n",
    "    elif n == 2:\n",
    "        return [0, 1]\n",
    "    \n",
    "    fib_sequence = [0, 1]\n",
    "    for _ in range(2, n):\n",
    "        fib_sequence.append(fib_sequence[-1] + fib_sequence[-2])\n",
    "    return fib_sequence\n",
    "\n",
    "# Number of Fibonacci numbers to generate\n",
    "n = int(input(\"Enter the number of Fibonacci numbers to generate: \"))\n",
    "fib_sequence = fibonacci(n)\n",
    "print(\"Input by the user: \", n)\n",
    "\n",
    "# Print the Fibonacci sequence\n",
    "print(\"Fibonacci sequence:\", fib_sequence)\n",
    "\n",
    "# Plot the Fibonacci sequence\n",
    "plt.figure(figsize=(10, 5))\n",
    "plt.plot(range(1, n + 1), fib_sequence, marker='o', linestyle='-', color='b', label='Fibonacci numbers')\n",
    "plt.title(\"Fibonacci Sequence\")\n",
    "plt.xlabel(\"Index\")\n",
    "plt.ylabel(\"Fibonacci Number\")\n",
    "plt.grid()\n",
    "plt.legend()\n",
    "plt.show()"
   ]
  },
  {
   "cell_type": "markdown",
   "metadata": {},
   "source": [
    "### Q4 List Manipulation"
   ]
  },
  {
   "cell_type": "markdown",
   "metadata": {},
   "source": [
    "numbers = [3, 5, 7, 9, 11, 13]"
   ]
  },
  {
   "cell_type": "code",
   "execution_count": 8,
   "metadata": {},
   "outputs": [],
   "source": [
    "numbers = [3, 5, 7, 9, 11, 13]"
   ]
  },
  {
   "cell_type": "code",
   "execution_count": 9,
   "metadata": {},
   "outputs": [
    {
     "name": "stdout",
     "output_type": "stream",
     "text": [
      "After inserting 6 at index 3: [3, 5, 7, 6, 9, 11, 13]\n"
     ]
    }
   ],
   "source": [
    "# Insert 6 at the 3rd index\n",
    "\n",
    "# Create space at index 3\n",
    "index = 3\n",
    "numbers = numbers[:index] + [6] + numbers[index:]\n",
    "print(\"After inserting 6 at index 3:\", numbers)"
   ]
  },
  {
   "cell_type": "code",
   "execution_count": 10,
   "metadata": {},
   "outputs": [
    {
     "name": "stdout",
     "output_type": "stream",
     "text": [
      "After removing 7: [3, 5, 6, 9, 11, 13]\n"
     ]
    }
   ],
   "source": [
    "# Remove the number 7\n",
    "\n",
    "# Remove 7 by filtering it out\n",
    "new_numbers = []\n",
    "for num in numbers:\n",
    "    if num != 7:\n",
    "        new_numbers.append(num)\n",
    "numbers = new_numbers\n",
    "print(\"After removing 7:\", numbers)\n"
   ]
  },
  {
   "cell_type": "code",
   "execution_count": 11,
   "metadata": {},
   "outputs": [
    {
     "name": "stdout",
     "output_type": "stream",
     "text": [
      "After reversing the list: [13, 11, 9, 6, 5, 3]\n"
     ]
    }
   ],
   "source": [
    "# Reverse the list\n",
    "\n",
    "\n",
    "# Reverse the list\n",
    "reversed_numbers = []\n",
    "for i in range(len(numbers) - 1, -1, -1):\n",
    "    reversed_numbers.append(numbers[i])\n",
    "numbers = reversed_numbers\n",
    "print(\"After reversing the list:\", numbers)\n"
   ]
  },
  {
   "cell_type": "code",
   "execution_count": 12,
   "metadata": {},
   "outputs": [
    {
     "name": "stdout",
     "output_type": "stream",
     "text": [
      "Mean of the list: 7.833333333333333\n"
     ]
    }
   ],
   "source": [
    "# Calculate the Mean\n",
    "\n",
    "\n",
    "# Calculate sum\n",
    "total = 0\n",
    "for num in numbers:\n",
    "    total += num\n",
    "\n",
    "# Calculate mean\n",
    "mean = total / len(numbers)\n",
    "print(\"Mean of the list:\", mean)"
   ]
  },
  {
   "cell_type": "code",
   "execution_count": null,
   "metadata": {},
   "outputs": [],
   "source": [
    "# Calculate the Median\n",
    "\n",
    "\n",
    "# Sort the list manually\n",
    "sorted_numbers = numbers[:]  # Copy of the list\n",
    "for i in range(len(sorted_numbers)):\n",
    "    for j in range(i + 1, len(sorted_numbers)):\n",
    "        if sorted_numbers[i] > sorted_numbers[j]:\n",
    "            # Swap elements\n",
    "            sorted_numbers[i], sorted_numbers[j] = sorted_numbers[j], sorted_numbers[i]\n",
    "\n",
    "# Find median\n",
    "n = len(sorted_numbers)\n",
    "if n % 2 == 0:\n",
    "    median = (sorted_numbers[n // 2 - 1] + sorted_numbers[n // 2]) / 2\n",
    "else:\n",
    "    median = sorted_numbers[n // 2]\n",
    "\n",
    "print(\"Median of the list:\", median)\n",
    "# Output: 7.5\n"
   ]
  },
  {
   "cell_type": "markdown",
   "metadata": {},
   "source": [
    "### Q5 User Input and Basic Statistics"
   ]
  },
  {
   "cell_type": "code",
   "execution_count": 3,
   "metadata": {},
   "outputs": [
    {
     "name": "stdout",
     "output_type": "stream",
     "text": [
      "List of numbers: [10.0, 20.0, 30.0]\n",
      "Mean of the numbers: 20.0\n",
      "Smallest number: 10.0\n",
      "Largest number: 30.0\n"
     ]
    },
    {
     "data": {
      "image/png": "[encoded data removed]",
      "text/plain": [
       "<Figure size 576x360 with 1 Axes>"
      ]
     },
     "metadata": {
      "needs_background": "light"
     },
     "output_type": "display_data"
    }
   ],
   "source": [
    "# Read a comma-separated list of numbers from the user\n",
    "input_numbers = input(\"Enter a comma-separated list of numbers (e.g., 10, 20, 30, 40): \")\n",
    "\n",
    "# Convert the input string to a list of numbers\n",
    "numbers = [float(num.strip()) for num in input_numbers.split(',')]\n",
    "\n",
    "# Calculate the mean\n",
    "mean_value = np.mean(numbers)\n",
    "\n",
    "# Identify the smallest and largest numbers\n",
    "smallest_number = min(numbers)\n",
    "largest_number = max(numbers)\n",
    "\n",
    "# Display results\n",
    "print(\"List of numbers:\", numbers)\n",
    "print(f\"Mean of the numbers: {mean_value}\")\n",
    "print(f\"Smallest number: {smallest_number}\")\n",
    "print(f\"Largest number: {largest_number}\")\n",
    "\n",
    "# Plot a histogram of the numbers\n",
    "plt.figure(figsize=(8, 5))\n",
    "plt.hist(numbers, bins=10, color='skyblue', edgecolor='black')\n",
    "plt.title(\"Histogram of Numbers\")\n",
    "plt.xlabel(\"Number Ranges\")\n",
    "plt.ylabel(\"Frequency\")\n",
    "plt.grid(axis='y', linestyle='--', alpha=0.7)\n",
    "plt.show()"
   ]
  },
  {
   "cell_type": "markdown",
   "metadata": {},
   "source": [
    "### Q6 Palindrome Check"
   ]
  },
  {
   "cell_type": "code",
   "execution_count": 13,
   "metadata": {},
   "outputs": [
    {
     "name": "stdout",
     "output_type": "stream",
     "text": [
      "Output: True\n"
     ]
    }
   ],
   "source": [
    "def is_palindrome(s):\n",
    "    # Step 1: Remove spaces and convert to lowercase manually\n",
    "    processed_string = \"\"\n",
    "    for char in s:\n",
    "        if char != \" \":  # Ignore spaces\n",
    "            if \"A\" <= char <= \"Z\":  # Convert uppercase to lowercase\n",
    "                processed_string += chr(ord(char) + 32)\n",
    "            else:\n",
    "                processed_string += char\n",
    "\n",
    "    # Step 2: Check if the string is the same forwards and backwards\n",
    "    n = len(processed_string)\n",
    "    for i in range(n // 2):\n",
    "        if processed_string[i] != processed_string[n - i - 1]:\n",
    "            return False\n",
    "    return True\n",
    "\n",
    "# Input string\n",
    "input_string = \"A man a plan a canal Panama\"\n",
    "result = is_palindrome(input_string)\n",
    "print(\"Output:\", result)"
   ]
  },
  {
   "cell_type": "markdown",
   "metadata": {},
   "source": [
    "### Q7 Dictionary Operations"
   ]
  },
  {
   "cell_type": "code",
   "execution_count": 4,
   "metadata": {},
   "outputs": [
    {
     "name": "stdout",
     "output_type": "stream",
     "text": [
      "Average marks: 80.25\n",
      "Students scoring above the average: Aarav, Rohan, Diya, Ananya\n"
     ]
    },
    {
     "data": {
      "image/png": "[encoded data removed]",
      "text/plain": [
       "<Figure size 720x360 with 1 Axes>"
      ]
     },
     "metadata": {
      "needs_background": "light"
     },
     "output_type": "display_data"
    }
   ],
   "source": [
    "# Create a dictionary of student names and their marks\n",
    "students = {\n",
    "    \"Aarav\": 85,\n",
    "    \"Ishita\": 78,\n",
    "    \"Rohan\": 92,\n",
    "    \"Sneha\": 60,\n",
    "    \"Varun\": 74,\n",
    "    \"Diya\": 88,\n",
    "    \"Ananya\": 95,\n",
    "    \"Kabir\": 70,\n",
    "}\n",
    "\n",
    "# Compute the average marks\n",
    "marks = list(students.values())\n",
    "average_marks = sum(marks) / len(marks)\n",
    "\n",
    "# Identify and print students scoring above the average\n",
    "above_average_students = [name for name, mark in students.items() if mark > average_marks]\n",
    "\n",
    "print(f\"Average marks: {average_marks:.2f}\")\n",
    "print(\"Students scoring above the average:\", \", \".join(above_average_students))\n",
    "\n",
    "# Visualize the distribution of marks using a bar chart\n",
    "plt.figure(figsize=(10, 5))\n",
    "plt.bar(students.keys(), students.values(), color='teal', alpha=0.7)\n",
    "plt.axhline(average_marks, color='red', linestyle='--', label=f\"Average: {average_marks:.2f}\")\n",
    "plt.title(\"Student Marks Distribution\")\n",
    "plt.xlabel(\"Students\")\n",
    "plt.ylabel(\"Marks\")\n",
    "plt.xticks(rotation=45)\n",
    "plt.legend()\n",
    "plt.tight_layout()\n",
    "plt.show()\n"
   ]
  },
  {
   "cell_type": "markdown",
   "metadata": {},
   "source": [
    "### Q8 Tuple List Creation"
   ]
  },
  {
   "cell_type": "code",
   "execution_count": 16,
   "metadata": {},
   "outputs": [
    {
     "data": {
      "image/png": "[encoded data removed]",
      "text/plain": [
       "<Figure size 432x288 with 1 Axes>"
      ]
     },
     "metadata": {
      "needs_background": "light"
     },
     "output_type": "display_data"
    }
   ],
   "source": [
    "import matplotlib.pyplot as plt\n",
    "# Create a list of tuples with numbers and their squares\n",
    "numbers_and_squares = []\n",
    "for num in range(1, 11):  # Numbers from 1 to 10\n",
    "    numbers_and_squares.append((num, num * num))\n",
    "\n",
    "# Separate numbers and squares into two lists for plotting\n",
    "numbers = [t[0] for t in numbers_and_squares]\n",
    "squares = [t[1] for t in numbers_and_squares]\n",
    "\n",
    "# Plotting\n",
    "plt.scatter(numbers, squares, color='blue', label='Numbers vs Squares')\n",
    "plt.title(\"Scatter Plot of Numbers and Their Squares\")\n",
    "plt.xlabel(\"Number\")\n",
    "plt.ylabel(\"Square\")\n",
    "plt.legend()\n",
    "plt.grid(True)\n",
    "plt.show()"
   ]
  },
  {
   "cell_type": "markdown",
   "metadata": {},
   "source": [
    "### Q9 Merging Dictionaries"
   ]
  },
  {
   "cell_type": "code",
   "execution_count": 5,
   "metadata": {},
   "outputs": [
    {
     "name": "stdout",
     "output_type": "stream",
     "text": [
      "Merged dictionary: {'mango': 40, 'orange': 30, 'apple': 50, 'pear': 70, 'peach': 25, 'plum': 15, 'kiwi': 35, 'grapefruit': 45, 'lychee': 55}\n"
     ]
    }
   ],
   "source": [
    "# Input dictionaries\n",
    "dict1 = {'mango': 40, 'orange': 30, 'apple': 20, 'pear': 50, 'peach': 25, 'plum': 15}\n",
    "dict2 = {'apple': 30, 'pear': 20, 'kiwi': 35, 'grapefruit': 45, 'lychee': 55}\n",
    "\n",
    "# Merging dictionaries\n",
    "merged_dict = dict1.copy()\n",
    "for key, value in dict2.items():\n",
    "    if key in merged_dict:\n",
    "        merged_dict[key] += value  \n",
    "    else:\n",
    "        merged_dict[key] = value  \n",
    "\n",
    "# Output the merged dictionary\n",
    "print(\"Merged dictionary:\", merged_dict)"
   ]
  },
  {
   "cell_type": "markdown",
   "metadata": {},
   "source": [
    "### Q10 Character Frequency"
   ]
  },
  {
   "cell_type": "code",
   "execution_count": 18,
   "metadata": {},
   "outputs": [
    {
     "name": "stdout",
     "output_type": "stream",
     "text": [
      "Character frequencies: {'h': 1, 'e': 1, 'l': 3, 'o': 2, 'w': 1, 'r': 1, 'd': 1}\n"
     ]
    }
   ],
   "source": [
    "def character_frequency(s):\n",
    "# Convert all characters to lowercase\n",
    "    lowercase_string = \"\"\n",
    "    for char in s:\n",
    "        if \"A\" <= char <= \"Z\":  # Convert uppercase to lowercase\n",
    "            lowercase_string += chr(ord(char) + 32)\n",
    "        else:\n",
    "            lowercase_string += char\n",
    "\n",
    "    # Count the frequency of each character\n",
    "    freq_dict = {}\n",
    "    for char in lowercase_string:\n",
    "        if char != \" \":  # Ignore spaces\n",
    "            if char in freq_dict:\n",
    "                freq_dict[char] += 1\n",
    "            else:\n",
    "                freq_dict[char] = 1\n",
    "\n",
    "    return freq_dict\n",
    "\n",
    "# Example usage\n",
    "input_string = \"Hello World\"\n",
    "frequencies = character_frequency(input_string)\n",
    "print(\"Character frequencies:\", frequencies)\n"
   ]
  },
  {
   "cell_type": "code",
   "execution_count": 19,
   "metadata": {},
   "outputs": [
    {
     "data": {
      "image/png": "[encoded data removed]",
      "text/plain": [
       "<Figure size 432x288 with 1 Axes>"
      ]
     },
     "metadata": {
      "needs_background": "light"
     },
     "output_type": "display_data"
    }
   ],
   "source": [
    "# Extract keys and values for the bar chart\n",
    "characters = list(frequencies.keys())\n",
    "counts = list(frequencies.values())\n",
    "\n",
    "# Plotting\n",
    "plt.bar(characters, counts, color='skyblue')\n",
    "plt.title(\"Character Frequency Bar Chart\")\n",
    "plt.xlabel(\"Characters\")\n",
    "plt.ylabel(\"Frequency\")\n",
    "plt.grid(axis='y', linestyle='--', alpha=0.7)\n",
    "plt.show()\n"
   ]
  },
  {
   "cell_type": "markdown",
   "metadata": {},
   "source": [
    "### Q11 Remove Duplicates"
   ]
  },
  {
   "cell_type": "code",
   "execution_count": 6,
   "metadata": {},
   "outputs": [
    {
     "name": "stdout",
     "output_type": "stream",
     "text": [
      "Original list: [10, 20, 10, 30, 40, 30, 50, 60, 40, 50]\n",
      "Unique elements: [10, 20, 30, 40, 50, 60]\n",
      "Mean of unique elements: 35.00\n",
      "Median of unique elements: 35.00\n"
     ]
    }
   ],
   "source": [
    "# Function to remove duplicates while maintaining order\n",
    "def remove_duplicates(input_list):\n",
    "    seen = set()\n",
    "    unique_list = []\n",
    "    for item in input_list:\n",
    "        if item not in seen:\n",
    "            unique_list.append(item)\n",
    "            seen.add(item)\n",
    "    return unique_list\n",
    "\n",
    "# List with duplicates\n",
    "input_list = [10, 20, 10, 30, 40, 30, 50, 60, 40, 50]\n",
    "\n",
    "# Remove duplicates\n",
    "unique_elements = remove_duplicates(input_list)\n",
    "\n",
    "# Calculate mean and median\n",
    "mean_value = np.mean(unique_elements)\n",
    "median_value = np.median(unique_elements)\n",
    "\n",
    "# Output the results\n",
    "print(\"Original list:\", input_list)\n",
    "print(\"Unique elements:\", unique_elements)\n",
    "print(f\"Mean of unique elements: {mean_value:.2f}\")\n",
    "print(f\"Median of unique elements: {median_value:.2f}\")\n"
   ]
  },
  {
   "cell_type": "markdown",
   "metadata": {},
   "source": [
    "### Q12 String Operations"
   ]
  },
  {
   "cell_type": "code",
   "execution_count": 20,
   "metadata": {},
   "outputs": [
    {
     "name": "stdout",
     "output_type": "stream",
     "text": [
      "Longest string: umbrella\n",
      "Number of strings starting with a vowel: 5\n",
      "String lengths: [5, 6, 8, 8, 3, 7, 3]\n"
     ]
    }
   ],
   "source": [
    "def string_operations(strings):\n",
    "    # Find the longest string\n",
    "    longest_string = \"\"\n",
    "    for s in strings:\n",
    "        if len(s) > len(longest_string):\n",
    "            longest_string = s\n",
    "\n",
    "    # Count how many strings start with a vowel\n",
    "    vowels = {'a', 'e', 'i', 'o', 'u', 'A', 'E', 'I', 'O', 'U'}\n",
    "    vowel_count = 0\n",
    "    for s in strings:\n",
    "        if s and s[0] in vowels:  # Check if the first character is a vowel\n",
    "            vowel_count += 1\n",
    "\n",
    "    # Calculate string lengths for the histogram\n",
    "    string_lengths = [len(s) for s in strings]\n",
    "\n",
    "    return longest_string, vowel_count, string_lengths\n",
    "\n",
    "# Example list of strings\n",
    "strings_list = [\"apple\", \"banana\", \"umbrella\", \"elephant\", \"cat\", \"octopus\", \"ant\"]\n",
    "longest, vowel_count, lengths = string_operations(strings_list)\n",
    "\n",
    "print(\"Longest string:\", longest)\n",
    "print(\"Number of strings starting with a vowel:\", vowel_count)\n",
    "print(\"String lengths:\", lengths)\n"
   ]
  },
  {
   "cell_type": "code",
   "execution_count": 21,
   "metadata": {},
   "outputs": [
    {
     "data": {
      "image/png": "[encoded data removed]",
      "text/plain": [
       "<Figure size 432x288 with 1 Axes>"
      ]
     },
     "metadata": {
      "needs_background": "light"
     },
     "output_type": "display_data"
    }
   ],
   "source": [
    "# Plot the histogram\n",
    "plt.hist(lengths, bins=range(1, max(lengths) + 2), edgecolor='black', color='lightgreen')\n",
    "plt.title(\"Distribution of String Lengths\")\n",
    "plt.xlabel(\"String Length\")\n",
    "plt.ylabel(\"Frequency\")\n",
    "plt.grid(axis='y', linestyle='--', alpha=0.7)\n",
    "plt.show()"
   ]
  },
  {
   "cell_type": "markdown",
   "metadata": {},
   "source": [
    "### Q13 Sorting Dictionaries"
   ]
  },
  {
   "cell_type": "code",
   "execution_count": 7,
   "metadata": {},
   "outputs": [
    {
     "name": "stdout",
     "output_type": "stream",
     "text": [
      "Sorted data: [{'name': 'Anjali', 'age': 22}, {'name': 'Priya', 'age': 25}, {'name': 'Rahul', 'age': 30}]\n"
     ]
    }
   ],
   "source": [
    "# Function to sort dictionary by key\n",
    "def sort_by_key(data, key):\n",
    "    return sorted(data, key=lambda x: x[key])\n",
    "\n",
    "# Given data\n",
    "data = [{'name': 'Rahul', 'age': 30}, {'name': 'Priya', 'age': 25}, {'name': 'Anjali', 'age': 22}]\n",
    "\n",
    "# Sort by 'age'\n",
    "sorted_data = sort_by_key(data, 'age')\n",
    "\n",
    "# Output the sorted list\n",
    "print(\"Sorted data:\", sorted_data)\n"
   ]
  },
  {
   "cell_type": "markdown",
   "metadata": {},
   "source": [
    "### Q14 Word Filtering and Sorting"
   ]
  },
  {
   "cell_type": "code",
   "execution_count": 22,
   "metadata": {},
   "outputs": [
    {
     "name": "stdout",
     "output_type": "stream",
     "text": [
      "Filtered and sorted words: ['brown', 'jumps', 'lazy', 'over', 'quick']\n"
     ]
    }
   ],
   "source": [
    "def filter_and_sort_words(input_string):\n",
    "    # Step 1: Split the string into words\n",
    "    words = []\n",
    "    word = \"\"\n",
    "    for char in input_string:\n",
    "        if char.isalpha() or char == \" \":\n",
    "            if char != \" \":\n",
    "                word += char\n",
    "            elif word:\n",
    "                words.append(word)\n",
    "                word = \"\"\n",
    "    if word:  # Append the last word if it exists\n",
    "        words.append(word)\n",
    "\n",
    "    # Step 2: Remove words shorter than 4 characters\n",
    "    filtered_words = []\n",
    "    for w in words:\n",
    "        if len(w) >= 4:\n",
    "            filtered_words.append(w)\n",
    "\n",
    "    # Step 3: Sort the remaining words alphabetically\n",
    "    for i in range(len(filtered_words)):\n",
    "        for j in range(i + 1, len(filtered_words)):\n",
    "            if filtered_words[i] > filtered_words[j]:\n",
    "                filtered_words[i], filtered_words[j] = filtered_words[j], filtered_words[i]\n",
    "\n",
    "    return filtered_words\n",
    "\n",
    "# Example string\n",
    "input_string = \"The quick brown fox jumps over the lazy dog\"\n",
    "filtered_sorted_words = filter_and_sort_words(input_string)\n",
    "print(\"Filtered and sorted words:\", filtered_sorted_words)"
   ]
  },
  {
   "cell_type": "code",
   "execution_count": 23,
   "metadata": {},
   "outputs": [
    {
     "data": {
      "image/png": "[encoded data removed]",
      "text/plain": [
       "<Figure size 432x288 with 1 Axes>"
      ]
     },
     "metadata": {
      "needs_background": "light"
     },
     "output_type": "display_data"
    }
   ],
   "source": [
    "# Extract word lengths\n",
    "word_lengths = [len(word) for word in filtered_sorted_words]\n",
    "\n",
    "# Plot the bar chart\n",
    "plt.bar(filtered_sorted_words, word_lengths, color='skyblue')\n",
    "plt.title(\"Word Lengths\")\n",
    "plt.xlabel(\"Words\")\n",
    "plt.ylabel(\"Length\")\n",
    "plt.xticks(rotation=45)\n",
    "plt.grid(axis='y', linestyle='--', alpha=0.7)\n",
    "plt.show()\n"
   ]
  },
  {
   "cell_type": "markdown",
   "metadata": {},
   "source": [
    "### Q15 Anagram Finde"
   ]
  },
  {
   "cell_type": "code",
   "execution_count": 8,
   "metadata": {},
   "outputs": [
    {
     "name": "stdout",
     "output_type": "stream",
     "text": [
      "Anagrams: ['glean']\n"
     ]
    }
   ],
   "source": [
    "def find_anagrams(word, words):\n",
    "    # Sort the characters of the word and compare with sorted characters of each word in the list\n",
    "    sorted_word = sorted(word)\n",
    "    return [w for w in words if sorted(w) == sorted_word]\n",
    "\n",
    "# Input\n",
    "word = \"angel\"\n",
    "words = [\"glean\", \"lean\", \"lone\", \"gleam\", \"game\", \"lang\"]\n",
    "\n",
    "# Find anagrams\n",
    "anagrams = find_anagrams(word, words)\n",
    "\n",
    "# Output the result\n",
    "print(\"Anagrams:\", anagrams)\n"
   ]
  },
  {
   "cell_type": "markdown",
   "metadata": {},
   "source": [
    "### Q16 Set Operations"
   ]
  },
  {
   "cell_type": "code",
   "execution_count": 30,
   "metadata": {},
   "outputs": [
    {
     "name": "stdout",
     "output_type": "stream",
     "text": [
      "Intersection: {4, 5}\n",
      "Union: {1, 2, 3, 4, 5, 6, 7, 8}\n",
      "Symmetric Difference: {1, 2, 3, 6, 7, 8}\n"
     ]
    },
    {
     "data": {
      "image/png": "[encoded data removed]",
      "text/plain": [
       "<Figure size 432x288 with 1 Axes>"
      ]
     },
     "metadata": {
      "needs_background": "light"
     },
     "output_type": "display_data"
    }
   ],
   "source": [
    "def set_operations(list1, list2):\n",
    "    # Convert lists to sets\n",
    "    set1 = set(list1)\n",
    "    set2 = set(list2)\n",
    "    \n",
    "    # Find intersection, union, and symmetric difference\n",
    "    intersection = set1 & set2\n",
    "    union = set1 | set2\n",
    "    symmetric_difference = set1 ^ set2\n",
    "\n",
    "    return intersection, union, symmetric_difference\n",
    "\n",
    "# Example lists\n",
    "list1 = [1, 2, 3, 4, 5]\n",
    "list2 = [4, 5, 6, 7, 8]\n",
    "\n",
    "# Get the results of set operations\n",
    "intersection, union, symmetric_difference = set_operations(list1, list2)\n",
    "\n",
    "# Print the results\n",
    "print(f\"Intersection: {intersection}\")\n",
    "print(f\"Union: {union}\")\n",
    "print(f\"Symmetric Difference: {symmetric_difference}\")\n",
    "\n",
    "# Visualization: Create a bar plot to compare the results\n",
    "labels = ['Intersection', 'Union', 'Symmetric Difference']\n",
    "values = [len(intersection), len(union), len(symmetric_difference)]\n",
    "\n",
    "# Plot the bar chart\n",
    "plt.bar(labels, values, color=['blue', 'green', 'red'])\n",
    "\n",
    "# Add titles and labels\n",
    "plt.title('Set Operations Visualization')\n",
    "plt.xlabel('Operations')\n",
    "plt.ylabel('Number of Elements')\n",
    "\n",
    "# Show the plot\n",
    "plt.show()\n"
   ]
  },
  {
   "cell_type": "markdown",
   "metadata": {},
   "source": [
    "### Q17 File Operations"
   ]
  },
  {
   "cell_type": "code",
   "execution_count": 9,
   "metadata": {},
   "outputs": [
    {
     "name": "stdout",
     "output_type": "stream",
     "text": [
      "The sum of the numbers is: 150\n"
     ]
    }
   ],
   "source": [
    "# Create and write to the file\n",
    "numbers = [10, 20, 30, 40, 50]\n",
    "file_name = 'numbers.txt'\n",
    "\n",
    "# Write numbers to the file\n",
    "with open(file_name, 'w') as file:\n",
    "    for number in numbers:\n",
    "        file.write(f\"{number}\\n\")\n",
    "\n",
    "# Read the file and compute the sum\n",
    "with open(file_name, 'r') as file:\n",
    "    lines = file.readlines()\n",
    "    # Convert lines to integers and compute the sum\n",
    "    sum_of_numbers = sum(int(line.strip()) for line in lines)\n",
    "\n",
    "# Output the sum\n",
    "print(f\"The sum of the numbers is: {sum_of_numbers}\")"
   ]
  },
  {
   "cell_type": "markdown",
   "metadata": {},
   "source": [
    "### Q18 Word Count and Frequency"
   ]
  },
  {
   "cell_type": "code",
   "execution_count": 6,
   "metadata": {},
   "outputs": [
    {
     "name": "stdout",
     "output_type": "stream",
     "text": [
      "Sample file 'sample.txt' created successfully.\n",
      "Total number of words: 23\n",
      "Most frequent word: 'python' (appears 4 times)\n"
     ]
    },
    {
     "data": {
      "image/png": "[encoded data removed]",
      "text/plain": [
       "<Figure size 432x288 with 1 Axes>"
      ]
     },
     "metadata": {
      "needs_background": "light"
     },
     "output_type": "display_data"
    }
   ],
   "source": [
    "import matplotlib.pyplot as plt\n",
    "from collections import Counter\n",
    "import string\n",
    "\n",
    "# Step 1: Create a sample text file\n",
    "def create_sample_file(file_path):\n",
    "    content = \"\"\"Python is great for programming. Python is widely used.\n",
    "                 Data analysis with Python is very popular.\n",
    "                 Python is also good for machine learning.\"\"\"\n",
    "    \n",
    "    try:\n",
    "        with open(file_path, 'w') as file:\n",
    "            file.write(content)  # Write the sample content to the file\n",
    "        print(f\"Sample file '{file_path}' created successfully.\")\n",
    "    except Exception as e:\n",
    "        print(f\"Error creating file: {e}\")\n",
    "\n",
    "# Step 2: Read a file and count the number of words\n",
    "def read_file_and_count_words(file_path):\n",
    "    try:\n",
    "        with open(file_path, 'r') as file:\n",
    "            content = file.read().lower()  # Read the file content and convert to lowercase for uniformity\n",
    "            # Remove punctuation\n",
    "            content = content.translate(str.maketrans('', '', string.punctuation))\n",
    "            words = content.split()  # Split content into words\n",
    "            word_count = len(words)  # Count total number of words\n",
    "            return words, word_count\n",
    "    except FileNotFoundError:\n",
    "        print(f\"File '{file_path}' not found.\")\n",
    "        return None, 0\n",
    "\n",
    "# Step 3: Find the most frequent word\n",
    "def find_most_frequent_word(words):\n",
    "    word_counts = Counter(words)\n",
    "    most_frequent_word, most_frequent_count = word_counts.most_common(1)[0]  # Get the most common word and its count\n",
    "    return most_frequent_word, most_frequent_count, word_counts\n",
    "\n",
    "# Step 4: Visualize the word frequencies using a bar chart\n",
    "def visualize_word_frequencies(word_counts):\n",
    "    words, counts = zip(*word_counts.items())  # Unpack the Counter dictionary into two lists\n",
    "    plt.bar(words, counts)\n",
    "    plt.xticks(rotation=90)  # Rotate the x-axis labels for better readability\n",
    "    plt.title('Word Frequency Distribution')\n",
    "    plt.xlabel('Words')\n",
    "    plt.ylabel('Frequency')\n",
    "    plt.tight_layout()  # Adjust layout to prevent clipping of labels\n",
    "    plt.show()\n",
    "\n",
    "# Example usage\n",
    "file_path = 'sample.txt'  # Specify the file name to be created\n",
    "\n",
    "# Step 1: Create a sample file\n",
    "create_sample_file(file_path)\n",
    "\n",
    "# Step 2: Read the file and count words\n",
    "words, total_word_count = read_file_and_count_words(file_path)\n",
    "\n",
    "if words:\n",
    "    print(f\"Total number of words: {total_word_count}\")\n",
    "\n",
    "    # Step 3: Find the most frequent word\n",
    "    most_frequent_word, most_frequent_count, word_counts = find_most_frequent_word(words)\n",
    "    print(f\"Most frequent word: '{most_frequent_word}' (appears {most_frequent_count} times)\")\n",
    "\n",
    "    # Step 4: Visualize the word frequencies\n",
    "    visualize_word_frequencies(word_counts)\n"
   ]
  },
  {
   "cell_type": "markdown",
   "metadata": {},
   "source": [
    "### Q19 Random Number Generation"
   ]
  },
  {
   "cell_type": "code",
   "execution_count": 10,
   "metadata": {},
   "outputs": [
    {
     "name": "stdout",
     "output_type": "stream",
     "text": [
      "The mean of the numbers is: 24.67\n"
     ]
    },
    {
     "data": {
      "image/png": "[encoded data removed]",
      "text/plain": [
       "<Figure size 432x288 with 1 Axes>"
      ]
     },
     "metadata": {
      "needs_background": "light"
     },
     "output_type": "display_data"
    }
   ],
   "source": [
    "import random\n",
    "\n",
    "# Generate 100 random integers between 1 and 50\n",
    "random_numbers = [random.randint(1, 50) for _ in range(100)]\n",
    "\n",
    "# Save the numbers in a text file, one per line\n",
    "file_name = 'random_numbers.txt'\n",
    "\n",
    "with open(file_name, 'w') as file:\n",
    "    for number in random_numbers:\n",
    "        file.write(f\"{number}\\n\")\n",
    "\n",
    "# Read the file and compute the mean\n",
    "with open(file_name, 'r') as file:\n",
    "    numbers_from_file = [int(line.strip()) for line in file.readlines()]\n",
    "\n",
    "mean_value = np.mean(numbers_from_file)\n",
    "\n",
    "# Output the mean\n",
    "print(f\"The mean of the numbers is: {mean_value:.2f}\")\n",
    "\n",
    "# Visualize the distribution of the numbers using a histogram\n",
    "plt.hist(numbers_from_file, bins=range(1, 52), edgecolor='black', align='left')\n",
    "plt.title('Distribution of Random Numbers')\n",
    "plt.xlabel('Number')\n",
    "plt.ylabel('Frequency')\n",
    "plt.show()"
   ]
  },
  {
   "cell_type": "markdown",
   "metadata": {},
   "source": [
    "### Q20 CSV File Operations"
   ]
  },
  {
   "cell_type": "code",
   "execution_count": 3,
   "metadata": {},
   "outputs": [
    {
     "name": "stdout",
     "output_type": "stream",
     "text": [
      "Sample file 'data.csv' created successfully.\n",
      "Total sum of the column: 120.0\n",
      "\n",
      "Visualizing the Data:\n"
     ]
    },
    {
     "data": {
      "image/png": "[encoded data removed]",
      "text/plain": [
       "<Figure size 432x288 with 1 Axes>"
      ]
     },
     "metadata": {
      "needs_background": "light"
     },
     "output_type": "display_data"
    }
   ],
   "source": [
    "import matplotlib.pyplot as plt\n",
    "\n",
    "# Step 1: Create a sample CSV file 'data.csv'\n",
    "def create_sample_csv(file_path):\n",
    "    header = \"Name,Value\\n\"\n",
    "    data = [\n",
    "        \"A,10\",\n",
    "        \"B,20\",\n",
    "        \"C,30\",\n",
    "        \"D,25\",\n",
    "        \"E,35\"\n",
    "    ]\n",
    "    \n",
    "    try:\n",
    "        with open(file_path, 'w') as file:\n",
    "            file.write(header)  # Write the header\n",
    "            for line in data:\n",
    "                file.write(line + '\\n')  # Write each row of data\n",
    "        print(f\"Sample file '{file_path}' created successfully.\")\n",
    "    except Exception as e:\n",
    "        print(f\"Error creating file: {e}\")\n",
    "\n",
    "# Step 2: Read CSV file and compute sum of a specific column\n",
    "def read_csv_and_sum_column(file_path, column_index):\n",
    "    values = []\n",
    "    try:\n",
    "        with open(file_path, 'r') as file:\n",
    "            lines = file.readlines()\n",
    "            for line in lines[1:]:  # Skip the header row\n",
    "                values.append(line.strip().split(',')[column_index])  # Split by comma and get the value in the given column\n",
    "    except FileNotFoundError:\n",
    "        print(f\"File '{file_path}' not found.\")\n",
    "        return None\n",
    "    \n",
    "    # Convert the string values to float and compute the sum\n",
    "    try:\n",
    "        values = [float(value) for value in values]\n",
    "        total_sum = sum(values)\n",
    "        return total_sum, values\n",
    "    except ValueError:\n",
    "        print(\"Error: The column values could not be converted to floats.\")\n",
    "        return None\n",
    "\n",
    "\n",
    "# Step 3: Visualizing the data using a line plot with matplotlib\n",
    "def visualize_line_plot(values):\n",
    "    # Create a line plot using matplotlib\n",
    "    plt.plot(values, marker='o', color='b', linestyle='-', markersize=8)\n",
    "    plt.title('Line Plot of Values')\n",
    "    plt.xlabel('Index')\n",
    "    plt.ylabel('Value')\n",
    "    plt.grid(True)\n",
    "    plt.show()\n",
    "\n",
    "\n",
    "# Example usage\n",
    "file_path = 'data.csv'  # File name to be created\n",
    "create_sample_csv(file_path)\n",
    "\n",
    "column_index = 1  # Index of the column whose values we want to sum (starting from 0)\n",
    "\n",
    "total_sum, values = read_csv_and_sum_column(file_path, column_index)\n",
    "\n",
    "if total_sum is not None:\n",
    "    print(f\"Total sum of the column: {total_sum}\")\n",
    "    \n",
    "    print(\"\\nVisualizing the Data:\")\n",
    "    visualize_line_plot(values)\n"
   ]
  },
  {
   "cell_type": "markdown",
   "metadata": {},
   "source": [
    "### Q21 Basic Statistics"
   ]
  },
  {
   "cell_type": "code",
   "execution_count": 11,
   "metadata": {},
   "outputs": [
    {
     "name": "stdout",
     "output_type": "stream",
     "text": [
      "Mean: 14.73\n",
      "Median: 15.00\n",
      "Mode: 12\n",
      "Standard Deviation: 2.19\n"
     ]
    },
    {
     "data": {
      "image/png": "[encoded data removed]",
      "text/plain": [
       "<Figure size 432x288 with 1 Axes>"
      ]
     },
     "metadata": {
      "needs_background": "light"
     },
     "output_type": "display_data"
    }
   ],
   "source": [
    "import statistics as stats\n",
    "\n",
    "# Sample list of numbers\n",
    "numbers = [12, 15, 12, 14, 13, 15, 16, 17, 15, 18, 12, 14, 16, 19, 13]\n",
    "\n",
    "# Calculate mean, median, mode, and standard deviation using the statistics library\n",
    "mean_value = stats.mean(numbers)\n",
    "median_value = stats.median(numbers)\n",
    "mode_value = stats.mode(numbers)\n",
    "std_dev_value = stats.stdev(numbers)\n",
    "\n",
    "# Output the calculated values\n",
    "print(f\"Mean: {mean_value:.2f}\")\n",
    "print(f\"Median: {median_value:.2f}\")\n",
    "print(f\"Mode: {mode_value}\")\n",
    "print(f\"Standard Deviation: {std_dev_value:.2f}\")\n",
    "\n",
    "# Visualize the data using a box plot\n",
    "plt.boxplot(numbers)\n",
    "plt.title('Box Plot of Numbers')\n",
    "plt.ylabel('Values')\n",
    "plt.show()\n"
   ]
  },
  {
   "cell_type": "markdown",
   "metadata": {},
   "source": [
    "### Q22 Normalization"
   ]
  },
  {
   "cell_type": "code",
   "execution_count": 4,
   "metadata": {},
   "outputs": [
    {
     "name": "stdout",
     "output_type": "stream",
     "text": [
      "Normalized Data: [0.0, 0.14285714285714285, 0.2857142857142857, 0.21428571428571427, 0.35714285714285715, 0.42857142857142855, 0.5714285714285714, 0.7142857142857143, 0.8571428571428571, 1.0]\n"
     ]
    },
    {
     "data": {
      "image/png": "[encoded data removed]",
      "text/plain": [
       "<Figure size 432x288 with 1 Axes>"
      ]
     },
     "metadata": {
      "needs_background": "light"
     },
     "output_type": "display_data"
    }
   ],
   "source": [
    "import matplotlib.pyplot as plt\n",
    "\n",
    "# Step 1: Normalize a list of numbers to the range 0 to 1\n",
    "def normalize(numbers):\n",
    "    min_value = min(numbers)\n",
    "    max_value = max(numbers)\n",
    "    \n",
    "    # Normalize each number in the list\n",
    "    normalized = [(x - min_value) / (max_value - min_value) for x in numbers]\n",
    "    return normalized\n",
    "\n",
    "# Step 2: Visualizing the normalized data using a line plot\n",
    "def visualize_line_plot(normalized_values):\n",
    "    plt.plot(normalized_values, marker='o', color='g', linestyle='-', markersize=8)\n",
    "    plt.title('Normalized Data (Range: 0 to 1)')\n",
    "    plt.xlabel('Index')\n",
    "    plt.ylabel('Normalized Value')\n",
    "    plt.grid(True)\n",
    "    plt.show()\n",
    "\n",
    "# Example usage\n",
    "data = [10, 20, 30, 25, 35, 40, 50, 60, 70, 80]  # Sample data\n",
    "\n",
    "# Normalize the data\n",
    "normalized_data = normalize(data)\n",
    "\n",
    "# Print the normalized values\n",
    "print(\"Normalized Data:\", normalized_data)\n",
    "\n",
    "# Visualize the normalized data\n",
    "visualize_line_plot(normalized_data)\n"
   ]
  },
  {
   "cell_type": "markdown",
   "metadata": {},
   "source": [
    "### Q23 Even or Odd"
   ]
  },
  {
   "cell_type": "code",
   "execution_count": 12,
   "metadata": {},
   "outputs": [
    {
     "name": "stdout",
     "output_type": "stream",
     "text": [
      "5 is odd.\n"
     ]
    }
   ],
   "source": [
    "# Take integer input from the user\n",
    "number = int(input(\"Enter an integer: \"))\n",
    "\n",
    "# Check if the number is even or odd\n",
    "if number % 2 == 0:\n",
    "    print(f\"{number} is even.\")\n",
    "else:\n",
    "    print(f\"{number} is odd.\")\n"
   ]
  },
  {
   "cell_type": "markdown",
   "metadata": {},
   "source": [
    "### Q24 Grade Calculator"
   ]
  },
  {
   "cell_type": "code",
   "execution_count": 7,
   "metadata": {},
   "outputs": [
    {
     "name": "stdout",
     "output_type": "stream",
     "text": [
      "Your letter grade is: F\n"
     ]
    }
   ],
   "source": [
    "def calculate_grade(grade):\n",
    "    # Check if the grade is within the valid range\n",
    "    if grade < 0 or grade > 100:\n",
    "        return \"Invalid grade! Please enter a grade between 0 and 100.\"\n",
    "    \n",
    "    # Determine the letter grade based on the numerical grade\n",
    "    if grade >= 90:\n",
    "        return \"A\"\n",
    "    elif grade >= 80:\n",
    "        return \"B\"\n",
    "    elif grade >= 70:\n",
    "        return \"C\"\n",
    "    elif grade >= 60:\n",
    "        return \"D\"\n",
    "    else:\n",
    "        return \"F\"\n",
    "\n",
    "# Get input from the user\n",
    "try:\n",
    "    user_grade = float(input(\"Enter your numerical grade (0-100): \"))\n",
    "    letter_grade = calculate_grade(user_grade)\n",
    "    print(f\"Your letter grade is: {letter_grade}\")\n",
    "except ValueError:\n",
    "    print(\"Invalid input! Please enter a valid number for the grade.\")\n"
   ]
  },
  {
   "cell_type": "markdown",
   "metadata": {},
   "source": [
    "### Q25 Leap Year Checker"
   ]
  },
  {
   "cell_type": "code",
   "execution_count": 13,
   "metadata": {},
   "outputs": [
    {
     "name": "stdout",
     "output_type": "stream",
     "text": [
      "2012 is a leap year.\n"
     ]
    }
   ],
   "source": [
    "# Take year input from the user\n",
    "year = int(input(\"Enter a year: \"))\n",
    "\n",
    "# Check if the year is a leap year\n",
    "if (year % 4 == 0 and year % 100 != 0) or (year % 400 == 0):\n",
    "    print(f\"{year} is a leap year.\")\n",
    "else:\n",
    "    print(f\"{year} is not a leap year.\")"
   ]
  }
 ],
 "metadata": {
  "kernelspec": {
   "display_name": "Python 3",
   "language": "python",
   "name": "python3"
  },
  "language_info": {
   "codemirror_mode": {
    "name": "ipython",
    "version": 3
   },
   "file_extension": ".py",
   "mimetype": "text/x-python",
   "name": "python",
   "nbconvert_exporter": "python",
   "pygments_lexer": "ipython3",
   "version": "3.10.2"
  }
 },
 "nbformat": 4,
 "nbformat_minor": 2
}
